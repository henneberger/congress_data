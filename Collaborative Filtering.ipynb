{
 "cells": [
  {
   "cell_type": "code",
   "execution_count": 5,
   "metadata": {
    "collapsed": false,
    "deletable": true,
    "editable": true
   },
   "outputs": [],
   "source": [
    "\"\"\" An example of using this library to calculate related artists\n",
    "from the last.fm dataset. More details can be found\n",
    "at http://www.benfrederickson.com/matrix-factorization/\n",
    "\n",
    "The dataset here can be found at\n",
    "http://www.dtic.upf.edu/~ocelma/MusicRecommendationDataset/lastfm-360K.html\n",
    "\n",
    "Note there are some invalid entries in this dataset, running\n",
    "this function will clean it up so pandas can read it:\n",
    "https://github.com/benfred/bens-blog-code/blob/master/distance-metrics/musicdata.py#L39\n",
    "\"\"\"\n",
    "\n",
    "from __future__ import print_function\n",
    "\n",
    "import logging\n",
    "import argparse\n",
    "import time\n",
    "\n",
    "import numpy\n",
    "import pandas\n",
    "from scipy.sparse import coo_matrix\n",
    "import annoy\n",
    "\n",
    "from implicit import alternating_least_squares\n",
    "\n"
   ]
  },
  {
   "cell_type": "code",
   "execution_count": 6,
   "metadata": {
    "collapsed": true,
    "deletable": true,
    "editable": true
   },
   "outputs": [],
   "source": [
    "OPENBLAS_NUM_THREADS=1"
   ]
  },
  {
   "cell_type": "code",
   "execution_count": 7,
   "metadata": {
    "collapsed": true,
    "deletable": true,
    "editable": true
   },
   "outputs": [],
   "source": [
    "logging.basicConfig(level=logging.DEBUG)"
   ]
  },
  {
   "cell_type": "code",
   "execution_count": 29,
   "metadata": {
    "collapsed": false,
    "deletable": true,
    "editable": true
   },
   "outputs": [],
   "source": [
    "def read_data(filename):\n",
    "    \"\"\" Reads in the last.fm dataset, and returns a tuple of a pandas dataframe\n",
    "    and a sparse matrix of artist/user/playcount \"\"\"\n",
    "    # read in triples of user/artist/playcount from the input dataset\n",
    "    data = pandas.read_table(filename,\n",
    "                             usecols=[0, 1, 3],\n",
    "                             names=['artist', 'user', 'plays'])\n",
    "\n",
    "    # map each artist and user to a unique numeric value\n",
    "    data['user'] = data['user'].astype(\"category\")\n",
    "    data['artist'] = data['artist'].astype(\"category\")\n",
    "\n",
    "    # create a sparse matrix of all the users/plays\n",
    "    plays = coo_matrix((data['plays'].astype(float),\n",
    "                       (data['artist'].cat.codes.copy(),\n",
    "                        data['user'].cat.codes.copy())))\n",
    "\n",
    "    return data, plays\n",
    "\n",
    "\n",
    "def bm25_weight(X, K1=3000, B=0.8):\n",
    "    \"\"\" Weighs each row of the sparse matrix of the data by BM25 weighting \"\"\"\n",
    "    # calculate idf per term (user)\n",
    "    X = coo_matrix(X)\n",
    "    N = X.shape[0]\n",
    "    idf = numpy.log(float(N) / (1 + numpy.bincount(X.col)))\n",
    "\n",
    "    # calculate length_norm per document (artist)\n",
    "    row_sums = numpy.ravel(X.sum(axis=1))\n",
    "    average_length = row_sums.mean()\n",
    "    length_norm = (1.0 - B) + B * row_sums / average_length\n",
    "\n",
    "    # weight matrix rows by bm25\n",
    "    X.data = X.data * (K1 + 1.0) / (K1 * length_norm[X.row] + X.data) * idf[X.col]\n",
    "    return X\n",
    "\n",
    "\n",
    "class TopRelated(object):\n",
    "    def __init__(self, artist_factors):\n",
    "        # fully normalize artist_factors, so can compare with only the dot product\n",
    "        norms = numpy.linalg.norm(artist_factors, axis=-1)\n",
    "        self.factors = artist_factors / norms[:, numpy.newaxis]\n",
    "\n",
    "    def get_related(self, artistid, N=10):\n",
    "        scores = self.factors.dot(self.factors[artistid])\n",
    "        best = numpy.argpartition(scores, -N)[-N:]\n",
    "        return sorted(zip(best, scores[best]), key=lambda x: -x[1])\n",
    "\n",
    "\n",
    "class ApproximateTopRelated(object):\n",
    "    def __init__(self, artist_factors, treecount=20):\n",
    "        index = annoy.AnnoyIndex(artist_factors.shape[1], 'angular')\n",
    "        for i, row in enumerate(artist_factors):\n",
    "            index.add_item(i, row)\n",
    "        index.build(treecount)\n",
    "        self.index = index\n",
    "\n",
    "    def get_related(self, artistid, N=5):\n",
    "        neighbours = self.index.get_nns_by_item(artistid, N)\n",
    "        return sorted(((other, 1 - self.index.get_distance(artistid, other))\n",
    "                      for other in neighbours), key=lambda x: -x[1])\n",
    "\n",
    "\n",
    "def calculate_similar_artists(input_filename, output_filename,\n",
    "                              factors=30, regularization=0.01,\n",
    "                              iterations=40,\n",
    "                              exact=False, trees=20,\n",
    "                              use_native=True,\n",
    "                              dtype=numpy.float64,\n",
    "                              cg=False):\n",
    "    print(\"Calculating similar artists. This might take a while\")\n",
    "    print(\"reading data from %s\", input_filename)\n",
    "    start = time.time()\n",
    "    df, plays = read_data(input_filename)\n",
    "    print(\"read data file in %s\", time.time() - start)\n",
    "\n",
    "    print(\"weighting matrix by bm25\")\n",
    "    weighted = bm25_weight(plays)\n",
    "\n",
    "    print(\"calculating factors\")\n",
    "    start = time.time()\n",
    "    artist_factors, user_factors = alternating_least_squares(weighted,\n",
    "                                                             factors=factors,\n",
    "                                                             regularization=regularization,\n",
    "                                                             iterations=iterations,\n",
    "                                                             use_native=use_native,\n",
    "                                                             dtype=dtype,\n",
    "                                                             use_cg=cg)\n",
    "    print(\"calculated factors in %s\", time.time() - start)\n",
    "\n",
    "    # write out artists by popularity\n",
    "    print(\"calculating top artists\")\n",
    "    user_count = df.groupby('artist').size()\n",
    "    artists = dict(enumerate(df['artist'].cat.categories))\n",
    "    to_generate = sorted(list(artists), key=lambda x: -user_count[x])\n",
    "\n",
    "    print(artist_factors)\n",
    "    if exact:\n",
    "        calc = TopRelated(artist_factors)\n",
    "    else:\n",
    "        calc = ApproximateTopRelated(artist_factors, trees)\n",
    "\n",
    "    print(\"writing top related to %s\", output_filename)\n",
    "    with open(output_filename, \"w\") as o:\n",
    "        for artistid in to_generate:\n",
    "            artist = artists[artistid]\n",
    "            for other, score in calc.get_related(artistid):\n",
    "                o.write(\"%s\\t%s\\t%s\\n\" % (artist, artists[other], score))\n"
   ]
  },
  {
   "cell_type": "code",
   "execution_count": 30,
   "metadata": {
    "collapsed": false,
    "deletable": true,
    "editable": true
   },
   "outputs": [
    {
     "name": "stderr",
     "output_type": "stream",
     "text": [
      "WARNING:implicit:This method is deprecated. Please use the AlternatingLeastSquares class instead\n",
      "DEBUG:implicit:finished iteration 0 in 0.0304811000824\n",
      "DEBUG:implicit:finished iteration 1 in 0.0305988788605\n",
      "DEBUG:implicit:finished iteration 2 in 0.0348169803619\n"
     ]
    },
    {
     "name": "stdout",
     "output_type": "stream",
     "text": [
      "Calculating similar artists. This might take a while\n",
      "reading data from %s data/bill_1.csv\n",
      "read data file in %s 0.0613839626312\n",
      "weighting matrix by bm25\n",
      "calculating factors\n"
     ]
    },
    {
     "name": "stderr",
     "output_type": "stream",
     "text": [
      "DEBUG:implicit:finished iteration 3 in 0.0368061065674\n",
      "DEBUG:implicit:finished iteration 4 in 0.0348420143127\n",
      "DEBUG:implicit:finished iteration 5 in 0.0414049625397\n",
      "DEBUG:implicit:finished iteration 6 in 0.0366909503937\n",
      "DEBUG:implicit:finished iteration 7 in 0.0382311344147\n",
      "DEBUG:implicit:finished iteration 8 in 0.0441970825195\n",
      "DEBUG:implicit:finished iteration 9 in 0.0385420322418\n",
      "DEBUG:implicit:finished iteration 10 in 0.0412511825562\n",
      "DEBUG:implicit:finished iteration 11 in 0.0369868278503\n",
      "DEBUG:implicit:finished iteration 12 in 0.041825056076\n",
      "DEBUG:implicit:finished iteration 13 in 0.0379238128662\n",
      "DEBUG:implicit:finished iteration 14 in 0.0388481616974\n",
      "DEBUG:implicit:finished iteration 15 in 0.0366549491882\n",
      "DEBUG:implicit:finished iteration 16 in 0.0393178462982\n",
      "DEBUG:implicit:finished iteration 17 in 0.0413429737091\n",
      "DEBUG:implicit:finished iteration 18 in 0.0427808761597\n",
      "DEBUG:implicit:finished iteration 19 in 0.0398151874542\n",
      "DEBUG:implicit:finished iteration 20 in 0.0408370494843\n",
      "DEBUG:implicit:finished iteration 21 in 0.0418899059296\n",
      "DEBUG:implicit:finished iteration 22 in 0.0416359901428\n",
      "DEBUG:implicit:finished iteration 23 in 0.0393278598785\n",
      "DEBUG:implicit:finished iteration 24 in 0.0472288131714\n",
      "DEBUG:implicit:finished iteration 25 in 0.0435240268707\n",
      "DEBUG:implicit:finished iteration 26 in 0.0439147949219\n",
      "DEBUG:implicit:finished iteration 27 in 0.0508811473846\n",
      "DEBUG:implicit:finished iteration 28 in 0.0521500110626\n",
      "DEBUG:implicit:finished iteration 29 in 0.0487730503082\n",
      "DEBUG:implicit:finished iteration 30 in 0.0431249141693\n",
      "DEBUG:implicit:finished iteration 31 in 0.0436151027679\n",
      "DEBUG:implicit:finished iteration 32 in 0.0534930229187\n",
      "DEBUG:implicit:finished iteration 33 in 0.0374670028687\n",
      "DEBUG:implicit:finished iteration 34 in 0.0415101051331\n",
      "DEBUG:implicit:finished iteration 35 in 0.0412411689758\n",
      "DEBUG:implicit:finished iteration 36 in 0.0459752082825\n",
      "DEBUG:implicit:finished iteration 37 in 0.0411741733551\n",
      "DEBUG:implicit:finished iteration 38 in 0.0423908233643\n",
      "DEBUG:implicit:finished iteration 39 in 0.0453147888184\n"
     ]
    },
    {
     "name": "stdout",
     "output_type": "stream",
     "text": [
      "calculated factors in %s 1.72389793396\n",
      "calculating top artists\n",
      "[[ -5.90747261e-03   9.08448306e-04   4.62682983e-02 ...,   6.95666457e-03\n",
      "    1.24884337e-02   1.31453909e-02]\n",
      " [  5.46602572e-02  -3.51383271e-02   3.49669028e-02 ...,  -1.44070672e-02\n",
      "   -1.58458732e-02  -3.23981164e-02]\n",
      " [  4.44312404e-02  -3.01737955e-02   1.25254121e-02 ...,   1.57609402e-02\n",
      "    2.89474566e-02  -3.28779494e-02]\n",
      " ..., \n",
      " [ -9.94665304e-03  -4.61746317e-02   9.78075528e-03 ...,  -2.70238470e-02\n",
      "   -5.15347830e-03   4.67938562e-02]\n",
      " [  5.07836787e-02   1.34726745e-02  -6.57552030e-02 ...,   2.69928599e-02\n",
      "   -5.61087256e-04   3.00529806e-02]\n",
      " [  8.79245562e-03   3.55183673e-03   3.45596127e-03 ...,  -1.66531111e-03\n",
      "    1.27808735e-03   7.17304646e-05]]\n",
      "writing top related to %s data/billPerson_2.output\n"
     ]
    }
   ],
   "source": [
    "calculate_similar_artists('data/bill_1.csv', 'data/billPerson_2.output')\n"
   ]
  },
  {
   "cell_type": "code",
   "execution_count": null,
   "metadata": {
    "collapsed": true,
    "deletable": true,
    "editable": true
   },
   "outputs": [],
   "source": []
  }
 ],
 "metadata": {
  "kernelspec": {
   "display_name": "Python 2",
   "language": "python",
   "name": "python2"
  },
  "language_info": {
   "codemirror_mode": {
    "name": "ipython",
    "version": 2
   },
   "file_extension": ".py",
   "mimetype": "text/x-python",
   "name": "python",
   "nbconvert_exporter": "python",
   "pygments_lexer": "ipython2",
   "version": "2.7.13"
  }
 },
 "nbformat": 4,
 "nbformat_minor": 0
}
